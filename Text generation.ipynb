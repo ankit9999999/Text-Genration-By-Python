{
 "cells": [
  {
   "cell_type": "code",
   "execution_count": 9,
   "id": "e070a8c0",
   "metadata": {},
   "outputs": [
    {
     "name": "stderr",
     "output_type": "stream",
     "text": [
      "The attention mask and the pad token id were not set. As a consequence, you may observe unexpected behavior. Please pass your input's `attention_mask` to obtain reliable results.\n",
      "Setting `pad_token_id` to `eos_token_id`:50256 for open-end generation.\n"
     ]
    },
    {
     "name": "stdout",
     "output_type": "stream",
     "text": [
      "Generated text: Hello everyone,We are glad to inform you that the team has finally managed to find a way to solve the current issue with the current release version of\n",
      "Perplexity: 64.04151916503906\n"
     ]
    }
   ],
   "source": [
    "import torch\n",
    "from torch.utils.data import DataLoader, TensorDataset\n",
    "from transformers import GPT2Tokenizer, GPT2LMHeadModel\n",
    "\n",
    "class TextGenerator:\n",
    "    def __init__(self):\n",
    "        self.device = torch.device(\"cuda\" if torch.cuda.is_available() else \"cpu\")\n",
    "        self.model = GPT2LMHeadModel.from_pretrained('gpt2-large')\n",
    "        self.tokenizer = GPT2Tokenizer.from_pretrained('gpt2-large')\n",
    "        self.max_len = 30\n",
    "        self.top_k = 100\n",
    "        self.top_p = 0.8\n",
    "\n",
    "    def generate_text(self, prompt):\n",
    "        input_ids = self.tokenizer.encode(prompt, return_tensors='pt').to(self.device)\n",
    "        sample_outputs = self.model.generate(\n",
    "            input_ids,\n",
    "            do_sample=True,\n",
    "            max_length=self.max_len,\n",
    "            top_k=self.top_k,\n",
    "            top_p=self.top_p,\n",
    "            num_return_sequences=1\n",
    "        )\n",
    "        return self.tokenizer.decode(sample_outputs[0], skip_special_tokens=True)\n",
    "\n",
    "def calculate_perplexity(model, dataset, batch_size=1):\n",
    "    dataloader = DataLoader(dataset, batch_size=batch_size)\n",
    "    model.eval()\n",
    "    total_loss = 0\n",
    "    num_tokens = 0\n",
    "    for batch in dataloader:\n",
    "        # Extract the input tensor from the batch tuple\n",
    "        input_tensor = batch[0].to(model.device)\n",
    "        with torch.no_grad():\n",
    "            outputs = model(input_tensor, labels=input_tensor)\n",
    "            loss = outputs[0]\n",
    "        total_loss += loss.item() * input_tensor.numel()\n",
    "        num_tokens += input_tensor.numel()\n",
    "    avg_loss = total_loss / num_tokens\n",
    "    perplexity = torch.exp(torch.tensor(avg_loss))\n",
    "    return perplexity.item()\n",
    "\n",
    "\n",
    "# Example usage\n",
    "text_generator = TextGenerator()\n",
    "generated_text = text_generator.generate_text(\"Hello everyone\")\n",
    "print(f\"Generated text: {generated_text}\")\n",
    "\n",
    "tokenizer = GPT2Tokenizer.from_pretrained('gpt2-large')\n",
    "text_data = [\"This is some example text.\", \"Here is some more text.\"]\n",
    "encoded_data = [tokenizer.encode(text, return_tensors='pt') for text in text_data]\n",
    "dataset = TensorDataset(torch.cat(encoded_data))\n",
    "\n",
    "perplexity = calculate_perplexity(text_generator.model, dataset)\n",
    "print(f\"Perplexity: {perplexity}\")\n"
   ]
  },
  {
   "cell_type": "code",
   "execution_count": null,
   "id": "7fcd1ded",
   "metadata": {},
   "outputs": [],
   "source": []
  },
  {
   "cell_type": "code",
   "execution_count": null,
   "id": "61c401dd",
   "metadata": {},
   "outputs": [],
   "source": []
  },
  {
   "cell_type": "code",
   "execution_count": null,
   "id": "e54ab8f1",
   "metadata": {},
   "outputs": [],
   "source": []
  },
  {
   "cell_type": "code",
   "execution_count": null,
   "id": "c473800d",
   "metadata": {},
   "outputs": [],
   "source": []
  },
  {
   "cell_type": "code",
   "execution_count": null,
   "id": "bffc273e",
   "metadata": {},
   "outputs": [],
   "source": []
  }
 ],
 "metadata": {
  "kernelspec": {
   "display_name": "Python 3 (ipykernel)",
   "language": "python",
   "name": "python3"
  },
  "language_info": {
   "codemirror_mode": {
    "name": "ipython",
    "version": 3
   },
   "file_extension": ".py",
   "mimetype": "text/x-python",
   "name": "python",
   "nbconvert_exporter": "python",
   "pygments_lexer": "ipython3",
   "version": "3.9.13"
  }
 },
 "nbformat": 4,
 "nbformat_minor": 5
}
